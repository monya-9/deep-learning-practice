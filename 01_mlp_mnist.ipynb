{
  "nbformat": 4,
  "nbformat_minor": 0,
  "metadata": {
    "colab": {
      "provenance": [],
      "toc_visible": true,
      "authorship_tag": "ABX9TyP8DnUQnoPrB8hjZ3zJZlWS",
      "include_colab_link": true
    },
    "kernelspec": {
      "name": "python3",
      "display_name": "Python 3"
    },
    "language_info": {
      "name": "python"
    }
  },
  "cells": [
    {
      "cell_type": "markdown",
      "metadata": {
        "id": "view-in-github",
        "colab_type": "text"
      },
      "source": [
        "<a href=\"https://colab.research.google.com/github/monya-9/deep-learning-practice/blob/main/01_mlp_mnist.ipynb\" target=\"_parent\"><img src=\"https://colab.research.google.com/assets/colab-badge.svg\" alt=\"Open In Colab\"/></a>"
      ]
    },
    {
      "cell_type": "markdown",
      "source": [
        "# PyTorch로 MLP 구현 (MNIST 분류기)\n",
        "\n",
        "\n"
      ],
      "metadata": {
        "id": "5ZWWB8mcv8zv"
      }
    },
    {
      "cell_type": "code",
      "source": [
        "import torch\n",
        "import torch.nn as nn\n",
        "import torch.optim as optim\n",
        "from torchvision import datasets, transforms\n",
        "from torch.utils.data import DataLoader"
      ],
      "metadata": {
        "id": "W3Gq5xI04Ci7"
      },
      "execution_count": null,
      "outputs": []
    },
    {
      "cell_type": "code",
      "source": [
        "# 1. 디바이스 설정 (GPU 있으면 GPU 사용)\n",
        "device = torch.device(\"cuda\" if torch.cuda.is_available() else \"cpu\")\n",
        "print(f\"Using device: {device}\")"
      ],
      "metadata": {
        "id": "YRugsUBO4PMW"
      },
      "execution_count": null,
      "outputs": []
    },
    {
      "cell_type": "code",
      "source": [
        "# 2. MNIST 데이터셋 로딩\n",
        "transform = transforms.ToTensor()\n",
        "\n",
        "train_dataset = datasets.MNIST(root='./data', train=True, download=True, transform=transform)\n",
        "test_dataset = datasets.MNIST(root='./data', train=False, download=True, transform=transform)\n",
        "\n",
        "train_loader = DataLoader(train_dataset, batch_size=64, shuffle=True)\n",
        "test_loader = DataLoader(test_dataset, batch_size=64, shuffle=False)"
      ],
      "metadata": {
        "id": "tDICr2xd4P4l"
      },
      "execution_count": null,
      "outputs": []
    },
    {
      "cell_type": "markdown",
      "source": [
        "\n",
        "\n",
        "\n",
        "\n",
        "1.   MNIST 데이터를 torchvision에서 받아와서 텐서로 변환\n",
        "2.   학습용(train), 테스트용(test) 데이터셋 분리\n",
        "3.   DataLoader는 미니배치 단위로 데이터를 묶어줘서 학습 편리하게 함\n",
        "\n",
        "\n",
        "\n"
      ],
      "metadata": {
        "id": "apJCt8ho4hne"
      }
    },
    {
      "cell_type": "code",
      "source": [
        "# 3. MLP 모델 정의\n",
        "class MLP(nn.Module):\n",
        "    def __init__(self):\n",
        "        super(MLP, self).__init__()\n",
        "        self.layers = nn.Sequential(\n",
        "            nn.Flatten(),\n",
        "            nn.Linear(28*28, 128),\n",
        "            nn.ReLU(),\n",
        "            nn.Linear(128, 64),\n",
        "            nn.ReLU(),\n",
        "            nn.Linear(64, 10)\n",
        "        )\n",
        "    def forward(self, x):\n",
        "        return self.layers(x)\n",
        "\n",
        "model = MLP().to(device)"
      ],
      "metadata": {
        "id": "lU_8c46h49dq"
      },
      "execution_count": null,
      "outputs": []
    },
    {
      "cell_type": "markdown",
      "source": [
        "\n",
        "\n",
        "1.   28x28 크기 이미지를 1차원 벡터로 펼침\n",
        "2.   두 개의 은닉층(128, 64)과 ReLU 활성화 함수 사용\n",
        "3.   마지막 출력층은 10개 클래스(0~9 숫자)\n",
        "4.   모델을 device에 올려서 GPU/CPU에서 연산 가능하도록 함\n",
        "\n",
        "\n"
      ],
      "metadata": {
        "id": "7SPpZKux5CJ7"
      }
    },
    {
      "cell_type": "code",
      "source": [
        "# 4. 손실 함수와 옵티마이저 설정\n",
        "criterion = nn.CrossEntropyLoss()\n",
        "optimizer = optim.SGD(model.parameters(), lr=0.01)"
      ],
      "metadata": {
        "id": "ZXuhkhbC4RmA"
      },
      "execution_count": null,
      "outputs": []
    },
    {
      "cell_type": "markdown",
      "source": [
        "\n",
        "\n",
        "1.   CrossEntropyLoss: 분류 문제에서 가장 많이 쓰는 손실 함수\n",
        "2.   SGD 옵티마이저: 확률적 경사 하강법, 학습률 0.01 지정\n",
        "\n"
      ],
      "metadata": {
        "id": "VorDZnvW4qF4"
      }
    },
    {
      "cell_type": "code",
      "source": [
        "\n",
        "# 5. 학습 함수\n",
        "def train(model, loader):\n",
        "    model.train()\n",
        "    total_loss = 0\n",
        "    correct = 0\n",
        "    for x, y in loader:\n",
        "        x, y = x.to(device), y.to(device)\n",
        "\n",
        "        optimizer.zero_grad()\n",
        "        output = model(x)\n",
        "        loss = criterion(output, y)\n",
        "        loss.backward()\n",
        "        optimizer.step()\n",
        "\n",
        "        total_loss += loss.item()\n",
        "        preds = output.argmax(dim=1)\n",
        "        correct += (preds == y).sum().item()\n",
        "\n",
        "    avg_loss = total_loss / len(loader)\n",
        "    accuracy = correct / len(loader.dataset)\n",
        "    print(f\"Train Loss: {avg_loss:.4f} | Train Accuracy: {accuracy:.4f}\")"
      ],
      "metadata": {
        "id": "Ws6vKwyf4Vta"
      },
      "execution_count": null,
      "outputs": []
    },
    {
      "cell_type": "markdown",
      "source": [
        "\n",
        "\n",
        "1.   모델을 학습 모드로 설정\n",
        "2.   미니배치마다 예측, 손실 계산, 역전파, 파라미터 업데이트 수행\n",
        "3.   누적 손실과 정확도 계산 후 출력\n",
        "\n"
      ],
      "metadata": {
        "id": "3M--0lKh4wCQ"
      }
    },
    {
      "cell_type": "code",
      "source": [
        "# 6. 테스트 함수\n",
        "def test(model, loader):\n",
        "    model.eval()\n",
        "    correct = 0\n",
        "    with torch.no_grad():\n",
        "        for x, y in loader:\n",
        "            x, y = x.to(device), y.to(device)\n",
        "            output = model(x)\n",
        "            preds = output.argmax(dim=1)\n",
        "            correct += (preds == y).sum().item()\n",
        "\n",
        "    accuracy = correct / len(loader.dataset)\n",
        "    print(f\"Test Accuracy: {accuracy:.4f}\")"
      ],
      "metadata": {
        "id": "MgknsYJV4Xqq"
      },
      "execution_count": null,
      "outputs": []
    },
    {
      "cell_type": "markdown",
      "source": [
        "\n",
        "\n",
        "1.   평가 모드로 변경\n",
        "2.   기울기 계산 끄고 테스트 데이터셋에 대해 정확도 측정\n",
        "3.   테스트 정확도 출력\n",
        "\n"
      ],
      "metadata": {
        "id": "5l652l0440Ik"
      }
    },
    {
      "cell_type": "code",
      "source": [
        "# 7. 메인 학습 루프\n",
        "epochs = 5\n",
        "for epoch in range(epochs):\n",
        "    print(f\"\\nEpoch {epoch+1}/{epochs}\")\n",
        "    train(model, train_loader)\n",
        "    test(model, test_loader)"
      ],
      "metadata": {
        "id": "_5v_kQlp4Y3O"
      },
      "execution_count": null,
      "outputs": []
    },
    {
      "cell_type": "markdown",
      "source": [
        "\n",
        "\n",
        "1.   지정한 에폭만큼 학습과 테스트를 반복\n",
        "2.   매 에폭마다 학습 손실, 학습 정확도, 테스트 정확도 출력\n",
        "\n"
      ],
      "metadata": {
        "id": "bUM7n3Xo5K17"
      }
    }
  ]
}