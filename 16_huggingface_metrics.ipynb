{
  "nbformat": 4,
  "nbformat_minor": 0,
  "metadata": {
    "colab": {
      "provenance": [],
      "gpuType": "T4",
      "authorship_tag": "ABX9TyOsfguDUxWf4g/gAuVjuqW6",
      "include_colab_link": true
    },
    "kernelspec": {
      "name": "python3",
      "display_name": "Python 3"
    },
    "language_info": {
      "name": "python"
    },
    "accelerator": "GPU"
  },
  "cells": [
    {
      "cell_type": "markdown",
      "metadata": {
        "id": "view-in-github",
        "colab_type": "text"
      },
      "source": [
        "<a href=\"https://colab.research.google.com/github/monya-9/deep-learning-practice/blob/main/16_huggingface_metrics.ipynb\" target=\"_parent\"><img src=\"https://colab.research.google.com/assets/colab-badge.svg\" alt=\"Open In Colab\"/></a>"
      ]
    },
    {
      "cell_type": "markdown",
      "source": [
        "# HuggingFace로 지표 계산"
      ],
      "metadata": {
        "id": "wUfgVo9KvI0D"
      }
    },
    {
      "cell_type": "code",
      "execution_count": null,
      "metadata": {
        "colab": {
          "base_uri": "https://localhost:8080/"
        },
        "id": "VQlSTnNnvHjZ",
        "outputId": "988bcfab-da84-452f-a854-b3d8bcd498e0"
      },
      "outputs": [
        {
          "output_type": "stream",
          "name": "stdout",
          "text": [
            "\u001b[?25l   \u001b[90m━━━━━━━━━━━━━━━━━━━━━━━━━━━━━━━━━━━━━━━━\u001b[0m \u001b[32m0.0/84.1 kB\u001b[0m \u001b[31m?\u001b[0m eta \u001b[36m-:--:--\u001b[0m\r\u001b[2K   \u001b[90m━━━━━━━━━━━━━━━━━━━━━━━━━━━━━━━━━━━━━━━━\u001b[0m \u001b[32m84.1/84.1 kB\u001b[0m \u001b[31m4.7 MB/s\u001b[0m eta \u001b[36m0:00:00\u001b[0m\n",
            "\u001b[?25h"
          ]
        }
      ],
      "source": [
        "!pip install datasets evaluate transformers -q"
      ]
    },
    {
      "cell_type": "code",
      "source": [
        "from datasets import load_dataset\n",
        "import evaluate\n",
        "from transformers import AutoTokenizer, AutoModelForSequenceClassification, TrainingArguments, Trainer"
      ],
      "metadata": {
        "id": "G08XR9-tvLwg"
      },
      "execution_count": null,
      "outputs": []
    },
    {
      "cell_type": "code",
      "source": [
        "# 1. 데이터셋 로드 (IMDB: 긍정/부정 영화 리뷰)\n",
        "dataset = load_dataset(\"imdb\")"
      ],
      "metadata": {
        "colab": {
          "base_uri": "https://localhost:8080/",
          "height": 351,
          "referenced_widgets": [
            "27c7dc84243e4791a84c5d53a15e75ef",
            "ae4af1655fe44039aec538fbfa885083",
            "21e9d5f2e1734e9facf6603f04ef4fd9",
            "133783f59091498fb8b3fac3dce1c826",
            "ed8552ed5ec0433a92350b2e61d95a37",
            "ca7a15f23be240b7a17abb4c76580dd9",
            "613c105d1605408db3646c72a1d49179",
            "46ec5749d8b8478e8d8e5c9f6f31b16c",
            "be07432ffb734b4999342426406544c0",
            "9deacf799da24390b4ba90c1e1793602",
            "620d479ab9cc45ebb278ebd5cae5d408",
            "57da8d655f684e8b84c8680e4048fe0f",
            "cdd85354d8724b07af40367ab0613f0e",
            "370582f36fe3454f9eaef3b2919a9eba",
            "de6dbdeb7b40482e9f5fc570198fcb44",
            "5155928b8af54c9ba45ef1526c85a097",
            "f2ce4b59885f4fd1b83e17911624378e",
            "172c4c16bee946968a4eca8b85492cc5",
            "b8a1733555a9435095f0b2d1e9154a61",
            "11bf92706a374618b1b884341b0fa6af",
            "59108a69d2624685bd2f37f25148feb8",
            "63c90c8bef104bc5b8fbdbc37a77020f",
            "d1707aff24b64ccd83f44016da623fcf",
            "2650ccc51f7f4068aaa60a616e1475f1",
            "9e7725191a5e4e52bfa3729268758754",
            "87433016fd0b4b23a38fa72aad13c8e3",
            "519995282bd040f7b59a576ade85f5d2",
            "34740591fec64634994674efae2f3444",
            "45e4973d38a84d32bae94e12ab9ace51",
            "6f982d83cc2749abb8ca8cb2b89a3607",
            "ac1186707dd14a498ded7c271200a386",
            "9a2f40a460d84243ac4496516277ab4d",
            "b507e4f048864ae8a7394968bc5f4942",
            "afcf8d8eb9724bf8a1570c7619a2ae7c",
            "17e6b743d5cb4fe38c0471a2638e5f24",
            "96f3022effb74a9f8fa7c0c7f1bc4a5d",
            "c15f74e411154766880177e63665759b",
            "d7f7c8b7ec4e4db4854c867760e4a1f5",
            "a8eff51d87c242dcafa274b0c473dcad",
            "3c4208dfda0b402f8580cdd76f4f2d42",
            "f12f09420d2e4a34bef3396532ee2b0b",
            "a2b5217410754f74b614da6f39754e03",
            "e6a5e46efc134489b790bdd6251c5d52",
            "d105a0ee76b44b0cabd784b0005fb171",
            "a07900ed94ef4e9fa691e5c281c88fa1",
            "16263e4ce7bd42b2b73a656f49186e04",
            "1da4363ac8a842b39623b08c2c20a341",
            "40992ae7f4f547359b8923e40e83b002",
            "8374907386584817a975fa2d75379e3b",
            "0dd528e4bf0b4c2ab7d76132ce34c105",
            "1300f870de4f4190a02bb9fb7edd1b86",
            "2900bf6ea0c54685a372286415640e66",
            "e4884ff086b9464c9a1cf06bc00391bc",
            "73180a016e304858809fb3e72e2ac9d5",
            "f590351c2e7c445ba8b644e2fd5e3761",
            "26d1ab1576224fa88b2529267525ec96",
            "4ce78a5c21e14624a2dcd34441a71a11",
            "7ed300efebad42e4a7972b24d0d2bd0c",
            "b8b633d861a7431db3cb839a96204289",
            "86efc6de014b4555a9fba423486a29f0",
            "2f146ed9989b4f108be574665ac9cbd4",
            "cdbf68cf601749d29e34bf9f61be7546",
            "ecff645661db4395a5f0836401517ea8",
            "3c3dd9419414423491b3c74a7858aec8",
            "24c3f823ab844d86afea9b44693e951b",
            "263352b46e4e427fb301de3a5486bb05",
            "7a0d7714f409419f8788e52ee6872cf4",
            "4c95415698a14da58ee1107c230de2b6",
            "bcd5d29ac72749ed8e1eb9da787d660e",
            "4f87e81828de41fea09316ed6bb27d83",
            "766882d53c254bcdab3946a440b52e01",
            "733c8385c5bc4635bbc286798a9c2770",
            "5c3c44fa63374428936674f44469c424",
            "3c3a221303184e6da639a6ad6087dc17",
            "dcf227c2056c49fb8b7ff5eca54d935b",
            "24f38c434fbc420b9336a76e88c66761",
            "5d48f3a78fe54b59935e9bb4e2109df2"
          ]
        },
        "id": "GtCD8nA0vM1x",
        "outputId": "50cd0179-0320-43d0-f2ed-807332d50f1c"
      },
      "execution_count": null,
      "outputs": [
        {
          "output_type": "stream",
          "name": "stderr",
          "text": [
            "/usr/local/lib/python3.12/dist-packages/huggingface_hub/utils/_auth.py:94: UserWarning: \n",
            "The secret `HF_TOKEN` does not exist in your Colab secrets.\n",
            "To authenticate with the Hugging Face Hub, create a token in your settings tab (https://huggingface.co/settings/tokens), set it as secret in your Google Colab and restart your session.\n",
            "You will be able to reuse this secret in all of your notebooks.\n",
            "Please note that authentication is recommended but still optional to access public models or datasets.\n",
            "  warnings.warn(\n"
          ]
        },
        {
          "output_type": "display_data",
          "data": {
            "text/plain": [
              "README.md: 0.00B [00:00, ?B/s]"
            ],
            "application/vnd.jupyter.widget-view+json": {
              "version_major": 2,
              "version_minor": 0,
              "model_id": "27c7dc84243e4791a84c5d53a15e75ef"
            }
          },
          "metadata": {}
        },
        {
          "output_type": "display_data",
          "data": {
            "text/plain": [
              "plain_text/train-00000-of-00001.parquet:   0%|          | 0.00/21.0M [00:00<?, ?B/s]"
            ],
            "application/vnd.jupyter.widget-view+json": {
              "version_major": 2,
              "version_minor": 0,
              "model_id": "57da8d655f684e8b84c8680e4048fe0f"
            }
          },
          "metadata": {}
        },
        {
          "output_type": "display_data",
          "data": {
            "text/plain": [
              "plain_text/test-00000-of-00001.parquet:   0%|          | 0.00/20.5M [00:00<?, ?B/s]"
            ],
            "application/vnd.jupyter.widget-view+json": {
              "version_major": 2,
              "version_minor": 0,
              "model_id": "d1707aff24b64ccd83f44016da623fcf"
            }
          },
          "metadata": {}
        },
        {
          "output_type": "display_data",
          "data": {
            "text/plain": [
              "plain_text/unsupervised-00000-of-00001.p(…):   0%|          | 0.00/42.0M [00:00<?, ?B/s]"
            ],
            "application/vnd.jupyter.widget-view+json": {
              "version_major": 2,
              "version_minor": 0,
              "model_id": "afcf8d8eb9724bf8a1570c7619a2ae7c"
            }
          },
          "metadata": {}
        },
        {
          "output_type": "display_data",
          "data": {
            "text/plain": [
              "Generating train split:   0%|          | 0/25000 [00:00<?, ? examples/s]"
            ],
            "application/vnd.jupyter.widget-view+json": {
              "version_major": 2,
              "version_minor": 0,
              "model_id": "a07900ed94ef4e9fa691e5c281c88fa1"
            }
          },
          "metadata": {}
        },
        {
          "output_type": "display_data",
          "data": {
            "text/plain": [
              "Generating test split:   0%|          | 0/25000 [00:00<?, ? examples/s]"
            ],
            "application/vnd.jupyter.widget-view+json": {
              "version_major": 2,
              "version_minor": 0,
              "model_id": "26d1ab1576224fa88b2529267525ec96"
            }
          },
          "metadata": {}
        },
        {
          "output_type": "display_data",
          "data": {
            "text/plain": [
              "Generating unsupervised split:   0%|          | 0/50000 [00:00<?, ? examples/s]"
            ],
            "application/vnd.jupyter.widget-view+json": {
              "version_major": 2,
              "version_minor": 0,
              "model_id": "7a0d7714f409419f8788e52ee6872cf4"
            }
          },
          "metadata": {}
        }
      ]
    },
    {
      "cell_type": "code",
      "source": [
        "# 2. 토크나이저 불러오기\n",
        "tokenizer = AutoTokenizer.from_pretrained(\"distilbert-base-uncased\")\n",
        "\n",
        "def tokenize_function(example):\n",
        "    return tokenizer(example[\"text\"], padding=\"max_length\", truncation=True)\n",
        "\n",
        "tokenized_datasets = dataset.map(tokenize_function, batched=True)"
      ],
      "metadata": {
        "colab": {
          "base_uri": "https://localhost:8080/",
          "height": 241,
          "referenced_widgets": [
            "51bd29dcff77419fb553424a7de046ba",
            "2330bb57a9384dcfb226a06aaecac45f",
            "3983791f5e484ee9a14435a3ba4b4ea6",
            "53c7279689804e20872c1b6dca05e56a",
            "81c30d396c814dc0a4398cac9c8d2daa",
            "25237b2b819a4bf5982cbbb69040053c",
            "a4996a8667904fc08203e030049d76ec",
            "987e63ae05d44350aef90c2e20c2bb2a",
            "91f38be527b94a079ef4d6a7bec2cbf2",
            "6b8b5c5858a54ba2b40155c99e581cb7",
            "4db8b2871d9d48259940b243d2a5e33c",
            "7e00c03080344ce9a087e3ea922c0a08",
            "a64c9f357a6c451c88752b6eb94dd4b9",
            "8c0869d1e68d4bd69af361ec932733da",
            "f88a2276cf5b48ec8594f7f9cdc48e90",
            "60d08f686d134c828d5344766b511c18",
            "0c5bd9dc621e4939b9ffc8cab5e4f534",
            "44308832b41f4a49b2611a06c1bd9ea0",
            "01d0896754eb4160bb5f0fdbf0c51d04",
            "75e625488eb34b71b410da3f0b9e8e84",
            "7792ee2cc1314199b269ec5e94ad323f",
            "8f714cfd534342b9a3202505e21cef39",
            "92faa3add8044909b3261c1df6ec8d2d",
            "09c2be5e19574df0ae72f8e0b30116b9",
            "73fd161d10ca49629111e7f813bf77c2",
            "ddcbc5a627bd4f39a382ed8e1dfc4b9c",
            "aae615736a394792a6ab211e8b6bcb71",
            "450791c962104074883cf9197f3728ee",
            "3e1548bdee0b4bac8645c178ac0053c9",
            "3947e09f8c4d45fa8eb9f0fbd20f21e5",
            "f3ebf2d9b91a494fbb9f49000996e6c3",
            "99e5a8e117c847edbde98c26f09566dc",
            "59a23c53df8b4884aaa54f0b4edc6126",
            "957c4cdd43344c89808a23712386e4e9",
            "c8e887b95d23424480a1aa870a88a955",
            "fcc4139d43d3409296987770c1562b32",
            "817034bf2c45459fb1eaca1e9e2bc6ca",
            "ee5e1045d62c4a35a58c9ed1047473a3",
            "cbbcc25e375c4c1b962d3b98dc03da99",
            "231d7fefbc7349188fbf4310fed94eab",
            "44ad931579af4561929b59bbe4fe55a8",
            "e2896e4d522e43e69ffbb437c750fc25",
            "2c0b668fd3984803b9e19026278e927c",
            "caa8019b602748cfab01b971f2d744b7",
            "3b9d8ea7cf3343538367c9313ff20a4a",
            "a8b0164c31d3409fb9cd78ba56e4e002",
            "e9a4f794a1b6409bb161d9866ac72cb9",
            "072f2bb7cb6c4ae9bc4e607846a84a61",
            "1243822ec82f4d558593e9f50a9681c7",
            "2f1f67ff717a432c8066f6faeff16d56",
            "165df62443174a7b843afe45a845d819",
            "f763582e73154320b78d55414324203f",
            "f284c7b6cc134c8db0f73272ecc040d6",
            "4d10a84499d74fc8b91d8e5c2c4676cd",
            "1c75429ce4a44bf182e84883d796908f",
            "09796644949549348a332166ea8686f8",
            "033dd6b4502644099245c7a508776c66",
            "2df0d221296f4a048ab433e637c22975",
            "e180f8f46e0246b590ff9d608cbf63e8",
            "aecdf7e5f79e4b20898606c3f648fbcb",
            "b9c62f63f6b34c6c8ca0343e4862eb86",
            "aba75dc61d514e5b823886e7cf88da78",
            "19f29c028fc64bdd89b936583e95c896",
            "59e0e07a73294e1aa799ffbeee87f1dd",
            "e5818355b3db42a0a6c717b8adb7aaf8",
            "9c71b39d281b4444b5d0c36b09a084a1",
            "b490d15fae5940fea9f3cfc02d3f12ff",
            "792460d94cd64f4f997500f0888e2d83",
            "415c8d4dff8744c2b0e44c8104614785",
            "1dec043a768e4b7a825afbe192035670",
            "44831d803f3146afb930deadeb2d0070",
            "a33fc98c42684045993327df8fda25fc",
            "24b5a78f480b4b6fa76152d1fedc24ae",
            "dea06d0967384213826056c75a86e879",
            "de73d701435a4eeeb1bcddfa9b4c28b6",
            "129b15e243e84b8b993f7626d4040ab5",
            "136406c8045742c187d286cb8da8749c"
          ]
        },
        "id": "T_WUC8QKvNhJ",
        "outputId": "596730b7-146b-4c79-e885-ba73b1bea238"
      },
      "execution_count": null,
      "outputs": [
        {
          "output_type": "display_data",
          "data": {
            "text/plain": [
              "tokenizer_config.json:   0%|          | 0.00/48.0 [00:00<?, ?B/s]"
            ],
            "application/vnd.jupyter.widget-view+json": {
              "version_major": 2,
              "version_minor": 0,
              "model_id": "51bd29dcff77419fb553424a7de046ba"
            }
          },
          "metadata": {}
        },
        {
          "output_type": "display_data",
          "data": {
            "text/plain": [
              "config.json:   0%|          | 0.00/483 [00:00<?, ?B/s]"
            ],
            "application/vnd.jupyter.widget-view+json": {
              "version_major": 2,
              "version_minor": 0,
              "model_id": "7e00c03080344ce9a087e3ea922c0a08"
            }
          },
          "metadata": {}
        },
        {
          "output_type": "display_data",
          "data": {
            "text/plain": [
              "vocab.txt:   0%|          | 0.00/232k [00:00<?, ?B/s]"
            ],
            "application/vnd.jupyter.widget-view+json": {
              "version_major": 2,
              "version_minor": 0,
              "model_id": "92faa3add8044909b3261c1df6ec8d2d"
            }
          },
          "metadata": {}
        },
        {
          "output_type": "display_data",
          "data": {
            "text/plain": [
              "tokenizer.json:   0%|          | 0.00/466k [00:00<?, ?B/s]"
            ],
            "application/vnd.jupyter.widget-view+json": {
              "version_major": 2,
              "version_minor": 0,
              "model_id": "957c4cdd43344c89808a23712386e4e9"
            }
          },
          "metadata": {}
        },
        {
          "output_type": "display_data",
          "data": {
            "text/plain": [
              "Map:   0%|          | 0/25000 [00:00<?, ? examples/s]"
            ],
            "application/vnd.jupyter.widget-view+json": {
              "version_major": 2,
              "version_minor": 0,
              "model_id": "3b9d8ea7cf3343538367c9313ff20a4a"
            }
          },
          "metadata": {}
        },
        {
          "output_type": "display_data",
          "data": {
            "text/plain": [
              "Map:   0%|          | 0/25000 [00:00<?, ? examples/s]"
            ],
            "application/vnd.jupyter.widget-view+json": {
              "version_major": 2,
              "version_minor": 0,
              "model_id": "09796644949549348a332166ea8686f8"
            }
          },
          "metadata": {}
        },
        {
          "output_type": "display_data",
          "data": {
            "text/plain": [
              "Map:   0%|          | 0/50000 [00:00<?, ? examples/s]"
            ],
            "application/vnd.jupyter.widget-view+json": {
              "version_major": 2,
              "version_minor": 0,
              "model_id": "b490d15fae5940fea9f3cfc02d3f12ff"
            }
          },
          "metadata": {}
        }
      ]
    },
    {
      "cell_type": "code",
      "source": [
        "# 3. 모델 불러오기 (DistilBERT)\n",
        "model = AutoModelForSequenceClassification.from_pretrained(\"distilbert-base-uncased\", num_labels=2)"
      ],
      "metadata": {
        "colab": {
          "base_uri": "https://localhost:8080/",
          "height": 106,
          "referenced_widgets": [
            "b2ff698fb66d4eb9bcef4b089546c885",
            "78b294d7c2a149ad980012dbfda5b901",
            "c344f22aa001491388c2c6ee3a02d23f",
            "1787e96c75f6480f9901cbc6d3763fee",
            "5e6b017bde9f42f685e971f6f24128dc",
            "636d3f6e4bff48c4a6a455870f502cf7",
            "c1507b5fc81744e09d7705cc60165ab2",
            "9ec3a6277a7f47c88de78957e8963837",
            "ad12505067164b07bae1082432a6b175",
            "210f6d4ca9004a3d9b1ab911fa0bc42e",
            "9223cf35051949b1944f887f7e992130"
          ]
        },
        "id": "52hjuVNGvPIZ",
        "outputId": "6436bf87-881d-4f6d-decf-2a235fe3b464"
      },
      "execution_count": null,
      "outputs": [
        {
          "output_type": "display_data",
          "data": {
            "text/plain": [
              "model.safetensors:   0%|          | 0.00/268M [00:00<?, ?B/s]"
            ],
            "application/vnd.jupyter.widget-view+json": {
              "version_major": 2,
              "version_minor": 0,
              "model_id": "b2ff698fb66d4eb9bcef4b089546c885"
            }
          },
          "metadata": {}
        },
        {
          "output_type": "stream",
          "name": "stderr",
          "text": [
            "Some weights of DistilBertForSequenceClassification were not initialized from the model checkpoint at distilbert-base-uncased and are newly initialized: ['classifier.bias', 'classifier.weight', 'pre_classifier.bias', 'pre_classifier.weight']\n",
            "You should probably TRAIN this model on a down-stream task to be able to use it for predictions and inference.\n"
          ]
        }
      ]
    },
    {
      "cell_type": "code",
      "source": [
        "# 4. 지표 로드\n",
        "accuracy = evaluate.load(\"accuracy\")\n",
        "f1 = evaluate.load(\"f1\")\n",
        "\n",
        "def compute_metrics(eval_pred):\n",
        "    logits, labels = eval_pred\n",
        "    predictions = logits.argmax(axis=-1)\n",
        "    acc = accuracy.compute(predictions=predictions, references=labels)\n",
        "    f1_score = f1.compute(predictions=predictions, references=labels, average=\"weighted\")\n",
        "    return {\"accuracy\": acc[\"accuracy\"], \"f1\": f1_score[\"f1\"]}"
      ],
      "metadata": {
        "colab": {
          "base_uri": "https://localhost:8080/",
          "height": 81,
          "referenced_widgets": [
            "b3f14ac95aca4541a0d35e41b2006472",
            "586f86d16b10442aa27e778cb2da0ebe",
            "421d3a8aae60414d9034b6a04dee58bf",
            "715218ba0d49477693c5c09632c0fd79",
            "752f26344efe4b2891727263bf3c7efd",
            "f29cddbf53e749d392e24cb5dffcad2c",
            "3ebfdfd7f6a14bf4a5efcaaf779ec831",
            "ccf0a844efae41edaa4133186a0fd248",
            "29382899986c4765acf234763dfddab1",
            "438db1191d33426d98bc63b8746221ab",
            "d06407371cf1496cb9783b8e3499ab8a",
            "1e3140b213bb406a9c206eeab46f22d8",
            "d7d67f96f9b648d893647f3d5260e580",
            "d8dcdc5206d2482e868216c2a8fde305",
            "db0b0bf05b5d499793b2e420a4c4245a",
            "09c0cf54497544a584ec4207ae40a522",
            "7d602a0c53a74c45be61f9d5aba48006",
            "c4c85249e1064f4fbc3694150305c166",
            "5839108dde1d4715a3a86d02f014bc3c",
            "4737719c8e484f9d8120a4b4fc3b6c4c",
            "d9029bd1609448d8b39586edfb74d0a3",
            "e5a424e9cb654274b37ffb70843ef8fc"
          ]
        },
        "id": "tJ1Q7YM3vTJV",
        "outputId": "5dd47f39-a298-401c-d6ed-036eaa16a9bc"
      },
      "execution_count": null,
      "outputs": [
        {
          "output_type": "display_data",
          "data": {
            "text/plain": [
              "Downloading builder script: 0.00B [00:00, ?B/s]"
            ],
            "application/vnd.jupyter.widget-view+json": {
              "version_major": 2,
              "version_minor": 0,
              "model_id": "b3f14ac95aca4541a0d35e41b2006472"
            }
          },
          "metadata": {}
        },
        {
          "output_type": "display_data",
          "data": {
            "text/plain": [
              "Downloading builder script: 0.00B [00:00, ?B/s]"
            ],
            "application/vnd.jupyter.widget-view+json": {
              "version_major": 2,
              "version_minor": 0,
              "model_id": "1e3140b213bb406a9c206eeab46f22d8"
            }
          },
          "metadata": {}
        }
      ]
    },
    {
      "cell_type": "code",
      "source": [
        "# 5. 훈련 설정\n",
        "training_args = TrainingArguments(\n",
        "    output_dir=\"./results\",\n",
        "    eval_strategy=\"epoch\",\n",
        "    save_strategy=\"epoch\",\n",
        "    per_device_train_batch_size=4,\n",
        "    per_device_eval_batch_size=4,\n",
        "    num_train_epochs=1,\n",
        "    learning_rate=2e-5,\n",
        "    logging_dir=\"./logs\",\n",
        "    report_to=\"none\"\n",
        ")"
      ],
      "metadata": {
        "id": "NM7HQdtcvUpO"
      },
      "execution_count": null,
      "outputs": []
    },
    {
      "cell_type": "code",
      "source": [
        "# 6. Trainer API\n",
        "trainer = Trainer(\n",
        "    model=model,\n",
        "    args=training_args,\n",
        "    train_dataset=tokenized_datasets[\"train\"].shuffle(seed=42).select(range(1000)),\n",
        "    eval_dataset=tokenized_datasets[\"test\"].shuffle(seed=42).select(range(500)),\n",
        "    tokenizer=tokenizer,\n",
        "    compute_metrics=compute_metrics,\n",
        ")"
      ],
      "metadata": {
        "colab": {
          "base_uri": "https://localhost:8080/"
        },
        "id": "iOTYLHbKvVq0",
        "outputId": "620f33e4-9bdc-46ee-a877-678c1e103551"
      },
      "execution_count": null,
      "outputs": [
        {
          "output_type": "stream",
          "name": "stderr",
          "text": [
            "/tmp/ipython-input-3658749591.py:2: FutureWarning: `tokenizer` is deprecated and will be removed in version 5.0.0 for `Trainer.__init__`. Use `processing_class` instead.\n",
            "  trainer = Trainer(\n"
          ]
        }
      ]
    },
    {
      "cell_type": "code",
      "source": [
        "# 7. 학습 + 평가\n",
        "trainer.train()\n",
        "trainer.evaluate()"
      ],
      "metadata": {
        "colab": {
          "base_uri": "https://localhost:8080/",
          "height": 256
        },
        "id": "QtBmSJCnvWxx",
        "outputId": "d052bcc7-31d0-47c1-9cde-d3574a94ea6e"
      },
      "execution_count": null,
      "outputs": [
        {
          "output_type": "display_data",
          "data": {
            "text/plain": [
              "<IPython.core.display.HTML object>"
            ],
            "text/html": [
              "\n",
              "    <div>\n",
              "      \n",
              "      <progress value='250' max='250' style='width:300px; height:20px; vertical-align: middle;'></progress>\n",
              "      [250/250 01:04, Epoch 1/1]\n",
              "    </div>\n",
              "    <table border=\"1\" class=\"dataframe\">\n",
              "  <thead>\n",
              " <tr style=\"text-align: left;\">\n",
              "      <th>Epoch</th>\n",
              "      <th>Training Loss</th>\n",
              "      <th>Validation Loss</th>\n",
              "      <th>Accuracy</th>\n",
              "      <th>F1</th>\n",
              "    </tr>\n",
              "  </thead>\n",
              "  <tbody>\n",
              "    <tr>\n",
              "      <td>1</td>\n",
              "      <td>No log</td>\n",
              "      <td>0.313386</td>\n",
              "      <td>0.868000</td>\n",
              "      <td>0.868008</td>\n",
              "    </tr>\n",
              "  </tbody>\n",
              "</table><p>"
            ]
          },
          "metadata": {}
        },
        {
          "output_type": "display_data",
          "data": {
            "text/plain": [
              "<IPython.core.display.HTML object>"
            ],
            "text/html": [
              "\n",
              "    <div>\n",
              "      \n",
              "      <progress value='125' max='125' style='width:300px; height:20px; vertical-align: middle;'></progress>\n",
              "      [125/125 00:07]\n",
              "    </div>\n",
              "    "
            ]
          },
          "metadata": {}
        },
        {
          "output_type": "execute_result",
          "data": {
            "text/plain": [
              "{'eval_loss': 0.3133859932422638,\n",
              " 'eval_accuracy': 0.868,\n",
              " 'eval_f1': 0.8680084485407067,\n",
              " 'eval_runtime': 7.1848,\n",
              " 'eval_samples_per_second': 69.591,\n",
              " 'eval_steps_per_second': 17.398,\n",
              " 'epoch': 1.0}"
            ]
          },
          "metadata": {},
          "execution_count": 9
        }
      ]
    }
  ]
}