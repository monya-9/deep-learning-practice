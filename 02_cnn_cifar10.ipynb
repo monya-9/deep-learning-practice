{
  "nbformat": 4,
  "nbformat_minor": 0,
  "metadata": {
    "colab": {
      "provenance": [],
      "toc_visible": true,
      "authorship_tag": "ABX9TyMf3/7XIQ74gD2UAGXJNxEM",
      "include_colab_link": true
    },
    "kernelspec": {
      "name": "python3",
      "display_name": "Python 3"
    },
    "language_info": {
      "name": "python"
    }
  },
  "cells": [
    {
      "cell_type": "markdown",
      "metadata": {
        "id": "view-in-github",
        "colab_type": "text"
      },
      "source": [
        "<a href=\"https://colab.research.google.com/github/monya-9/deep-learning-practice/blob/main/02_cnn_cifar10.ipynb\" target=\"_parent\"><img src=\"https://colab.research.google.com/assets/colab-badge.svg\" alt=\"Open In Colab\"/></a>"
      ]
    },
    {
      "cell_type": "markdown",
      "source": [
        "# CNN – CIFAR-10 분류기\n",
        "\n",
        "CIFAR-10 데이터셋(32×32 컬러 이미지, 10 클래스)을 CNN으로 분류하는 실습입니다."
      ],
      "metadata": {
        "id": "URp_7RqEWLJP"
      }
    },
    {
      "cell_type": "code",
      "source": [
        "# 1. 라이브러리 불러오기\n",
        "import torch\n",
        "import torch.nn as nn\n",
        "import torch.optim as optim\n",
        "import torch.nn.functional as F\n",
        "import torchvision\n",
        "import torchvision.transforms as transforms"
      ],
      "metadata": {
        "id": "2Ns4C4O3WMfw"
      },
      "execution_count": 3,
      "outputs": []
    },
    {
      "cell_type": "code",
      "source": [
        "# 2. 데이터셋 로드 & 전처리\n",
        "# CIFAR-10: 32x32 컬러 이미지, 클래스 10개\n",
        "transform = transforms.Compose([\n",
        "    transforms.ToTensor(),  # 이미지를 Tensor로 변환\n",
        "    transforms.Normalize((0.5, 0.5, 0.5),  # RGB 채널 평균\n",
        "                         (0.5, 0.5, 0.5))  # RGB 채널 표준편차\n",
        "])\n",
        "\n",
        "# 학습 데이터\n",
        "trainset = torchvision.datasets.CIFAR10(root='./data', train=True,\n",
        "                                         download=True, transform=transform)\n",
        "trainloader = torch.utils.data.DataLoader(trainset, batch_size=64, shuffle=True)\n",
        "\n",
        "# 테스트 데이터\n",
        "testset = torchvision.datasets.CIFAR10(root='./data', train=False,\n",
        "                                        download=True, transform=transform)\n",
        "testloader = torch.utils.data.DataLoader(testset, batch_size=64, shuffle=False)\n",
        "\n",
        "# 클래스 이름\n",
        "classes = ('plane', 'car', 'bird', 'cat', 'deer',\n",
        "           'dog', 'frog', 'horse', 'ship', 'truck')"
      ],
      "metadata": {
        "colab": {
          "base_uri": "https://localhost:8080/"
        },
        "id": "J_Ken3eKWoKK",
        "outputId": "f57d096b-305a-48fa-c4e7-443e37f1000d"
      },
      "execution_count": 4,
      "outputs": [
        {
          "output_type": "stream",
          "name": "stderr",
          "text": [
            "100%|██████████| 170M/170M [00:04<00:00, 41.0MB/s]\n"
          ]
        }
      ]
    },
    {
      "cell_type": "markdown",
      "source": [
        "1. Normalize로 학습 안정화를 위한 정규화\n",
        "2. batch_size = 64 설정"
      ],
      "metadata": {
        "id": "tuHHogmwaBnb"
      }
    },
    {
      "cell_type": "code",
      "source": [
        "# 3. CNN 모델 정의\n",
        "class SimpleCNN(nn.Module):\n",
        "    def __init__(self):\n",
        "        super(SimpleCNN, self).__init__()\n",
        "        self.conv1 = nn.Conv2d(3, 32, 3, padding=1) # 32x32 → 32x32\n",
        "        self.pool = nn.MaxPool2d(2, 2)              # 32x32 → 16x16\n",
        "        self.conv2 = nn.Conv2d(32, 64, 3, padding=1)# 16x16 → 16x16\n",
        "        self.fc1 = nn.Linear(64 * 8 * 8, 256)\n",
        "        self.fc2 = nn.Linear(256, 10)\n",
        "\n",
        "    def forward(self, x):\n",
        "        x = self.pool(F.relu(self.conv1(x)))\n",
        "        x = self.pool(F.relu(self.conv2(x)))\n",
        "        x = x.view(-1, 64 * 8 * 8)\n",
        "        x = F.relu(self.fc1(x))\n",
        "        x = self.fc2(x)\n",
        "        return x\n",
        "\n",
        "device = torch.device(\"cuda\" if torch.cuda.is_available() else \"cpu\")\n",
        "net = SimpleCNN().to(device)"
      ],
      "metadata": {
        "id": "MtJLgtx-W4ap"
      },
      "execution_count": 5,
      "outputs": []
    },
    {
      "cell_type": "markdown",
      "source": [
        "1. view로 feature map을 fc 레이어 입력 형태로 변환\n",
        "2. ReLU 빈선형 활성화 함수 사용"
      ],
      "metadata": {
        "id": "w-9fSUdRaQjc"
      }
    },
    {
      "cell_type": "code",
      "source": [
        "# 4. 손실함수 & 옵티마이저\n",
        "criterion = nn.CrossEntropyLoss()\n",
        "optimizer = optim.Adam(net.parameters(), lr=0.001)"
      ],
      "metadata": {
        "id": "x20mGi5XXA1s"
      },
      "execution_count": 6,
      "outputs": []
    },
    {
      "cell_type": "markdown",
      "source": [
        "1. CrossEntropyLoss 다중 클래스 분류에 적합한 손실 함수\n",
        "2. Adam optimizer 작고 안정적인 학습률을 위해 선택"
      ],
      "metadata": {
        "id": "_pImTQXoaYUg"
      }
    },
    {
      "cell_type": "code",
      "source": [
        "# 5. 학습\n",
        "for epoch in range(5):  # 5 epoch\n",
        "    running_loss = 0.0\n",
        "    for i, data in enumerate(trainloader, 0):\n",
        "        inputs, labels = data[0].to(device), data[1].to(device)\n",
        "\n",
        "        optimizer.zero_grad()\n",
        "        outputs = net(inputs)\n",
        "        loss = criterion(outputs, labels)\n",
        "        loss.backward()\n",
        "        optimizer.step()\n",
        "\n",
        "        running_loss += loss.item()\n",
        "    print(f\"[Epoch {epoch+1}] loss: {running_loss/len(trainloader):.3f}\")\n",
        "\n",
        "print('Finished Training')"
      ],
      "metadata": {
        "colab": {
          "base_uri": "https://localhost:8080/"
        },
        "id": "uJtR-n2EXB1m",
        "outputId": "87719c56-320f-4f42-a430-cf507994d009"
      },
      "execution_count": 7,
      "outputs": [
        {
          "output_type": "stream",
          "name": "stdout",
          "text": [
            "[Epoch 1] loss: 1.323\n",
            "[Epoch 2] loss: 0.936\n",
            "[Epoch 3] loss: 0.768\n",
            "[Epoch 4] loss: 0.636\n",
            "[Epoch 5] loss: 0.522\n",
            "Finished Training\n"
          ]
        }
      ]
    },
    {
      "cell_type": "markdown",
      "source": [
        "1. 학습 진행 상황을 Epoch 단위로 로그 출력"
      ],
      "metadata": {
        "id": "cb5yPeaoarur"
      }
    },
    {
      "cell_type": "code",
      "source": [
        "# 6. 정확도 테스트\n",
        "correct = 0\n",
        "total = 0\n",
        "with torch.no_grad():\n",
        "    for data in testloader:\n",
        "        images, labels = data[0].to(device), data[1].to(device)\n",
        "        outputs = net(images)\n",
        "        _, predicted = torch.max(outputs.data, 1)\n",
        "        total += labels.size(0)\n",
        "        correct += (predicted == labels).sum().item()\n",
        "\n",
        "print(f\"Accuracy on test images: {100 * correct / total:.2f}%\")"
      ],
      "metadata": {
        "colab": {
          "base_uri": "https://localhost:8080/"
        },
        "id": "-lI1EKQDXDNv",
        "outputId": "d0596478-ea9f-40c3-c73e-dc218e3e33b6"
      },
      "execution_count": 8,
      "outputs": [
        {
          "output_type": "stream",
          "name": "stdout",
          "text": [
            "Accuracy on test images: 72.15%\n"
          ]
        }
      ]
    },
    {
      "cell_type": "markdown",
      "source": [
        "1. torch.no_grad()로 평가 시 불필요한 gradient 계산을 방지\n",
        "2. 최종 테스트 정확도를 %로 출력"
      ],
      "metadata": {
        "id": "P9d027ItavCz"
      }
    },
    {
      "cell_type": "markdown",
      "source": [
        "## 🔹 정확도를 80% 이상으로 높이는 방법\n",
        "- CNN 층 추가: Conv 레이어를 더 쌓거나 채널 수 늘리기\n",
        "- 데이터 증강(Data Augmentation): RandomCrop, RandomHorizontalFlip 등\n",
        "- Dropout 적용: FC 층 전에 Dropout 추가 → 과적합 방지\n",
        "- 학습 Epoch 늘리기 / 학습률 조정"
      ],
      "metadata": {
        "id": "j-JytKZQbJF0"
      }
    },
    {
      "cell_type": "code",
      "source": [
        "# =======================\n",
        "# 1) 라이브러리 불러오기\n",
        "# =======================\n",
        "import torch\n",
        "import torch.nn as nn\n",
        "import torch.optim as optim\n",
        "import torchvision\n",
        "import torchvision.transforms as transforms\n",
        "\n",
        "# =======================\n",
        "# 2) 데이터셋 로드 & 전처리\n",
        "# =======================\n",
        "transform = transforms.Compose([\n",
        "    transforms.RandomHorizontalFlip(),  # ⬆ 추가: 데이터 증강\n",
        "    transforms.RandomCrop(32, padding=4),  # ⬆ 추가: 데이터 증강\n",
        "    transforms.ToTensor(),\n",
        "    transforms.Normalize((0.5,0.5,0.5),(0.5,0.5,0.5))\n",
        "])\n",
        "\n",
        "trainset = torchvision.datasets.CIFAR10(root='./data', train=True, download=True, transform=transform)\n",
        "trainloader = torch.utils.data.DataLoader(trainset, batch_size=64, shuffle=True)\n",
        "\n",
        "testset = torchvision.datasets.CIFAR10(root='./data', train=False, download=True,\n",
        "                                       transform=transforms.Compose([\n",
        "                                           transforms.ToTensor(),\n",
        "                                           transforms.Normalize((0.5,0.5,0.5),(0.5,0.5,0.5))\n",
        "                                       ]))\n",
        "testloader = torch.utils.data.DataLoader(testset, batch_size=64, shuffle=False)\n",
        "\n",
        "classes = ('plane', 'car', 'bird', 'cat', 'deer',\n",
        "           'dog', 'frog', 'horse', 'ship', 'truck')\n",
        "\n",
        "# =======================\n",
        "# 3) CNN 모델 정의\n",
        "# =======================\n",
        "class ImprovedCNN(nn.Module):  # ⬆ 변경: 모델 이름 & 구조\n",
        "    def __init__(self):\n",
        "        super().__init__()\n",
        "        self.conv1 = nn.Conv2d(3,32,3,padding=1)\n",
        "        self.conv2 = nn.Conv2d(32,64,3,padding=1)\n",
        "        self.conv3 = nn.Conv2d(64,128,3,padding=1)  # ⬆ 추가: Conv3\n",
        "        self.pool = nn.MaxPool2d(2,2)\n",
        "        self.dropout = nn.Dropout(0.3)             # ⬆ 추가: Dropout\n",
        "        self.fc1 = nn.Linear(128*4*4,256)          # ⬆ 변경: FC 입력 크기\n",
        "        self.fc2 = nn.Linear(256,10)\n",
        "\n",
        "    def forward(self,x):\n",
        "        x = self.pool(torch.relu(self.conv1(x)))\n",
        "        x = self.pool(torch.relu(self.conv2(x)))\n",
        "        x = self.pool(torch.relu(self.conv3(x)))  # ⬆ 추가: Conv3\n",
        "        x = x.view(-1,128*4*4)\n",
        "        x = self.dropout(torch.relu(self.fc1(x)))  # ⬆ 추가: Dropout\n",
        "        return self.fc2(x)\n",
        "\n",
        "device = torch.device(\"cuda\" if torch.cuda.is_available() else \"cpu\")\n",
        "net = ImprovedCNN().to(device)\n",
        "\n",
        "# =======================\n",
        "# 4) 손실함수 & 옵티마이저\n",
        "# =======================\n",
        "criterion = nn.CrossEntropyLoss()\n",
        "optimizer = optim.Adam(net.parameters(), lr=0.001)\n",
        "\n",
        "# =======================\n",
        "# 5) 학습\n",
        "# =======================\n",
        "for epoch in range(20):  # ⬆ 변경: Epoch 20으로 증가\n",
        "    running_loss = 0.0\n",
        "    for i, data in enumerate(trainloader, 0):\n",
        "        inputs, labels = data[0].to(device), data[1].to(device)\n",
        "        optimizer.zero_grad()\n",
        "        outputs = net(inputs)\n",
        "        loss = criterion(outputs, labels)\n",
        "        loss.backward()\n",
        "        optimizer.step()\n",
        "        running_loss += loss.item()\n",
        "    print(f\"[Epoch {epoch+1}] loss: {running_loss/len(trainloader):.3f}\")\n",
        "\n",
        "print(\"Finished Training\")\n",
        "\n",
        "# =======================\n",
        "# 6) 테스트 정확도\n",
        "# =======================\n",
        "correct = 0\n",
        "total = 0\n",
        "with torch.no_grad():\n",
        "    for data in testloader:\n",
        "        images, labels = data[0].to(device), data[1].to(device)\n",
        "        outputs = net(images)\n",
        "        _, predicted = torch.max(outputs.data, 1)\n",
        "        total += labels.size(0)\n",
        "        correct += (predicted == labels).sum().item()\n",
        "\n",
        "print(f\"Accuracy on test images: {100 * correct / total:.2f}%\")\n"
      ],
      "metadata": {
        "colab": {
          "base_uri": "https://localhost:8080/"
        },
        "id": "hWoYhIQQbk5G",
        "outputId": "bdc01f0c-07ec-411b-e932-3428c155d1e2"
      },
      "execution_count": null,
      "outputs": [
        {
          "output_type": "stream",
          "name": "stdout",
          "text": [
            "[Epoch 1] loss: 1.615\n",
            "[Epoch 2] loss: 1.272\n",
            "[Epoch 3] loss: 1.097\n",
            "[Epoch 4] loss: 0.988\n",
            "[Epoch 5] loss: 0.905\n",
            "[Epoch 6] loss: 0.850\n",
            "[Epoch 7] loss: 0.809\n"
          ]
        }
      ]
    }
  ]
}