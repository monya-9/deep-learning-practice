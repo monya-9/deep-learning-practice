{
  "nbformat": 4,
  "nbformat_minor": 0,
  "metadata": {
    "colab": {
      "provenance": [],
      "toc_visible": true,
      "gpuType": "T4",
      "authorship_tag": "ABX9TyMpl/GxL50TvIBoXDSI84BX",
      "include_colab_link": true
    },
    "kernelspec": {
      "name": "python3",
      "display_name": "Python 3"
    },
    "language_info": {
      "name": "python"
    },
    "accelerator": "GPU"
  },
  "cells": [
    {
      "cell_type": "markdown",
      "metadata": {
        "id": "view-in-github",
        "colab_type": "text"
      },
      "source": [
        "<a href=\"https://colab.research.google.com/github/monya-9/deep-learning-practice/blob/main/11_gensim_word2vec.ipynb\" target=\"_parent\"><img src=\"https://colab.research.google.com/assets/colab-badge.svg\" alt=\"Open In Colab\"/></a>"
      ]
    },
    {
      "cell_type": "markdown",
      "source": [
        "# gensim으로 Word2Vec 학습"
      ],
      "metadata": {
        "id": "wSfsN5aY3cV-"
      }
    },
    {
      "cell_type": "code",
      "execution_count": 1,
      "metadata": {
        "colab": {
          "base_uri": "https://localhost:8080/"
        },
        "id": "XdvM5FEr3KjA",
        "outputId": "019275f3-5d0d-4278-9f8e-9fa5f93373e9"
      },
      "outputs": [
        {
          "output_type": "stream",
          "name": "stdout",
          "text": [
            "Requirement already satisfied: gensim in /usr/local/lib/python3.12/dist-packages (4.3.3)\n",
            "Requirement already satisfied: numpy<2.0,>=1.18.5 in /usr/local/lib/python3.12/dist-packages (from gensim) (1.26.4)\n",
            "Requirement already satisfied: scipy<1.14.0,>=1.7.0 in /usr/local/lib/python3.12/dist-packages (from gensim) (1.13.1)\n",
            "Requirement already satisfied: smart-open>=1.8.1 in /usr/local/lib/python3.12/dist-packages (from gensim) (7.3.0.post1)\n",
            "Requirement already satisfied: wrapt in /usr/local/lib/python3.12/dist-packages (from smart-open>=1.8.1->gensim) (1.17.3)\n"
          ]
        }
      ],
      "source": [
        "# 1. 라이브러리 설치\n",
        "!pip install gensim"
      ]
    },
    {
      "cell_type": "code",
      "source": [
        "# 2. 데이터 준비\n",
        "sentences = [\n",
        "    [\"I\", \"love\", \"machine\", \"learning\"],\n",
        "    [\"Deep\", \"learning\", \"is\", \"a\", \"part\", \"of\", \"machine\", \"learning\"],\n",
        "    [\"Natural\", \"language\", \"processing\", \"uses\", \"machine\", \"learning\"],\n",
        "    [\"Word2Vec\", \"is\", \"a\", \"technique\", \"for\", \"NLP\"],\n",
        "    [\"I\", \"enjoy\", \"learning\", \"about\", \"artificial\", \"intelligence\"],\n",
        "]"
      ],
      "metadata": {
        "id": "CB1BMJg93ita"
      },
      "execution_count": 2,
      "outputs": []
    },
    {
      "cell_type": "markdown",
      "source": [
        "- 토큰화된 문장을 리스트 형태로 준비\n",
        "- 실제 학습시에는 대규모 코퍼스(위키피디아, 뉴스 등)를 사용하는 게 일반적"
      ],
      "metadata": {
        "id": "PNjuHFLz4V5F"
      }
    },
    {
      "cell_type": "code",
      "source": [
        "# 3. Word2Vec 모델 학습\n",
        "from gensim.models import Word2Vec\n",
        "\n",
        "# vector_size=임베딩 차원, window=맥락 크기, min_count=등장 최소횟수, sg=1이면 skip-gram\n",
        "model = Word2Vec(\n",
        "    sentences,\n",
        "    vector_size=50,\n",
        "    window=3,\n",
        "    min_count=1,\n",
        "    sg=1,  # Skip-gram\n",
        "    workers=4,  # CPU 코어 수 활용\n",
        "    epochs=100  # 학습 반복 횟수\n",
        ")"
      ],
      "metadata": {
        "id": "8zeDNMBr3joM"
      },
      "execution_count": 3,
      "outputs": []
    },
    {
      "cell_type": "code",
      "source": [
        "# 4. 학습된 단어 벡터 확인\n",
        "print(\"✅ 단어 벡터 차원:\", model.wv[\"machine\"].shape)\n",
        "print(\"✅ 'machine' 벡터 예시:\", model.wv[\"machine\"][:10])  # 앞부분만 출력"
      ],
      "metadata": {
        "colab": {
          "base_uri": "https://localhost:8080/"
        },
        "id": "AbVaVxBL3kqa",
        "outputId": "af4df4ae-ac8d-4802-9140-65ff38bf7021"
      },
      "execution_count": 4,
      "outputs": [
        {
          "output_type": "stream",
          "name": "stdout",
          "text": [
            "✅ 단어 벡터 차원: (50,)\n",
            "✅ 'machine' 벡터 예시: [-0.0166151   0.00910419 -0.00849493  0.00183529  0.01691492 -0.00921439\n",
            "  0.00947001 -0.01316268 -0.00740489  0.01857149]\n"
          ]
        }
      ]
    },
    {
      "cell_type": "code",
      "source": [
        "# 5. 유사한 단어 확인\n",
        "print(\"\\n✅ 'machine'과 가장 유사한 단어:\")\n",
        "print(model.wv.most_similar(\"machine\"))"
      ],
      "metadata": {
        "colab": {
          "base_uri": "https://localhost:8080/"
        },
        "id": "3ydR4TXl3lro",
        "outputId": "dff2c73a-aa31-4684-e412-4b9d1675ef10"
      },
      "execution_count": 5,
      "outputs": [
        {
          "output_type": "stream",
          "name": "stdout",
          "text": [
            "\n",
            "✅ 'machine'과 가장 유사한 단어:\n",
            "[('processing', 0.2366001456975937), ('Deep', 0.16426891088485718), ('part', 0.1535467505455017), ('I', 0.12953466176986694), ('technique', 0.08562607318162918), ('enjoy', 0.08433813601732254), ('learning', 0.059005022048950195), ('NLP', 0.022973734885454178), ('is', 0.02281986176967621), ('Natural', 0.01963285356760025)]\n"
          ]
        }
      ]
    },
    {
      "cell_type": "code",
      "source": [
        "# 6. 모델 저장 & 불러오기\n",
        "model.save(\"word2vec_model.model\")\n",
        "print(\"\\n✅ 모델 저장 완료\")\n",
        "\n",
        "loaded_model = Word2Vec.load(\"word2vec_model.model\")\n",
        "print(\"✅ 불러온 모델에서 'learning'과 유사한 단어:\")\n",
        "print(loaded_model.wv.most_similar(\"learning\"))"
      ],
      "metadata": {
        "colab": {
          "base_uri": "https://localhost:8080/"
        },
        "id": "bq6j0T203m4F",
        "outputId": "e16bc217-01dd-4dcb-d98b-71f348f9eddc"
      },
      "execution_count": 6,
      "outputs": [
        {
          "output_type": "stream",
          "name": "stdout",
          "text": [
            "\n",
            "✅ 모델 저장 완료\n",
            "✅ 불러온 모델에서 'learning'과 유사한 단어:\n",
            "[('part', 0.28149130940437317), ('Natural', 0.22561095654964447), ('Word2Vec', 0.18341033160686493), ('of', 0.16654103994369507), ('about', 0.14571981132030487), ('is', 0.14535823464393616), ('intelligence', 0.09810735285282135), ('processing', 0.0772932916879654), ('love', 0.07595811039209366), ('uses', 0.0679321438074112)]\n"
          ]
        }
      ]
    }
  ]
}