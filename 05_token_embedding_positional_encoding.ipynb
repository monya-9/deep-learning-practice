{
  "nbformat": 4,
  "nbformat_minor": 0,
  "metadata": {
    "colab": {
      "provenance": [],
      "toc_visible": true,
      "authorship_tag": "ABX9TyOlfnG4E4xe0sGJFQ2N+zvw",
      "include_colab_link": true
    },
    "kernelspec": {
      "name": "python3",
      "display_name": "Python 3"
    },
    "language_info": {
      "name": "python"
    }
  },
  "cells": [
    {
      "cell_type": "markdown",
      "metadata": {
        "id": "view-in-github",
        "colab_type": "text"
      },
      "source": [
        "<a href=\"https://colab.research.google.com/github/monya-9/deep-learning-practice/blob/main/05_token_embedding_positional_encoding.ipynb\" target=\"_parent\"><img src=\"https://colab.research.google.com/assets/colab-badge.svg\" alt=\"Open In Colab\"/></a>"
      ]
    },
    {
      "cell_type": "markdown",
      "source": [
        "# 토큰 임베딩 + 포지셔널 인코딩, LayerNorm + 잔차연결\n",
        "📌 실습 목표\n",
        "\n",
        "- 토큰 ID → 임베딩 변환\n",
        "\n",
        "- 포지셔널 인코딩 구현 (Sinusoidal 방식)\n",
        "\n",
        "- LayerNorm과 Residual Connection 적용\n",
        "\n",
        "- 임베딩 + 포지셔널 인코딩 시각화"
      ],
      "metadata": {
        "id": "YiETtjiaW59v"
      }
    },
    {
      "cell_type": "code",
      "source": [
        "import torch\n",
        "import torch.nn as nn\n",
        "import math\n",
        "import matplotlib.pyplot as plt"
      ],
      "metadata": {
        "id": "7EpLMun3XFW3"
      },
      "execution_count": 8,
      "outputs": []
    },
    {
      "cell_type": "code",
      "source": [
        "# ===== 1. Token Embedding Layer =====\n",
        "class TokenEmbedding(nn.Module):\n",
        "    def __init__(self, vocab_size, embed_dim):\n",
        "        super().__init__()\n",
        "        self.embedding = nn.Embedding(vocab_size, embed_dim)\n",
        "    def forward(self, x):\n",
        "        return self.embedding(x)  # [batch, seq_len, embed_dim]"
      ],
      "metadata": {
        "id": "SKfeGxXKXGB5"
      },
      "execution_count": 2,
      "outputs": []
    },
    {
      "cell_type": "markdown",
      "source": [
        "- 토큰 ID(정수)를 고정 길이 벡터로 변환\n",
        "- 입력: [batch, seq_len] 형태의 정수 텐서\n",
        "- 출력: [batch, seq_len, embed_dim] 형태의 실수 텐서"
      ],
      "metadata": {
        "id": "BWOGFamiXm4M"
      }
    },
    {
      "cell_type": "code",
      "source": [
        "# ===== 2. Positional Encoding (Sinusoidal) =====\n",
        "class PositionalEncoding(nn.Module):\n",
        "    def __init__(self, embed_dim, max_len=5000):\n",
        "        super().__init__()\n",
        "        pe = torch.zeros(max_len, embed_dim)\n",
        "        position = torch.arange(0, max_len, dtype=torch.float).unsqueeze(1)\n",
        "        div_term = torch.exp(torch.arange(0, embed_dim, 2).float() * (-math.log(10000.0) / embed_dim))\n",
        "        pe[:, 0::2] = torch.sin(position * div_term)  # even indices\n",
        "        pe[:, 1::2] = torch.cos(position * div_term)  # odd indices\n",
        "        pe = pe.unsqueeze(0)  # [1, max_len, embed_dim]\n",
        "        self.register_buffer('pe', pe)\n",
        "    def forward(self, x):\n",
        "        x = x + self.pe[:, :x.size(1)]\n",
        "        return x"
      ],
      "metadata": {
        "id": "MsKkk-vTXJoq"
      },
      "execution_count": 3,
      "outputs": []
    },
    {
      "cell_type": "markdown",
      "source": [
        "- 순서 정보(위치 인덱스)를 임베딩에 더함.\n",
        "- 트랜스포머는 RNN처럼 순서를 기억하지 못하므로 sin/cos 주기 함수를 이용해 위치 인코딩을 추가.\n",
        "- 수학적 아이디어\n",
        " - 짝수 인덱스: sin(position / 10000^(2i/d_model))\n",
        " - 홀수 인덱스: cos(position / 10000^(2i/d_model))\n",
        "- register_buffer: 학습 파라미터로 취급하지 않고 모델과 함께 저장."
      ],
      "metadata": {
        "id": "bXmlq8SzXznE"
      }
    },
    {
      "cell_type": "code",
      "source": [
        "# ===== 3. LayerNorm + Residual =====\n",
        "class ResidualLayerNorm(nn.Module):\n",
        "    def __init__(self, embed_dim):\n",
        "        super().__init__()\n",
        "        self.norm = nn.LayerNorm(embed_dim)\n",
        "    def forward(self, x, sublayer_out):\n",
        "        return self.norm(x + sublayer_out)  # residual connection + norm"
      ],
      "metadata": {
        "id": "_j47BHOvXLPH"
      },
      "execution_count": 4,
      "outputs": []
    },
    {
      "cell_type": "markdown",
      "source": [
        "- 트랜스포머 블록의 핵심 패턴\n",
        "  - 출력 = LayerNorm(입력 + 서브레이어 결과)\n",
        "- 장점\n",
        "  1. Residual Connection: 기울기 소실 방지, 정보 보존\n",
        "  2. LayerNorm: 학습 안정성, 수렴 가속"
      ],
      "metadata": {
        "id": "dyeg4IrFYOKy"
      }
    },
    {
      "cell_type": "code",
      "source": [
        "# ===== 4. Demo =====\n",
        "batch_size, seq_len, vocab_size, embed_dim = 2, 5, 100, 16\n",
        "\n",
        "tokens = torch.randint(0, vocab_size, (batch_size, seq_len))  # random token IDs\n",
        "print(\"Tokens:\\n\", tokens)\n",
        "\n",
        "token_embed = TokenEmbedding(vocab_size, embed_dim)\n",
        "pos_encoding = PositionalEncoding(embed_dim)\n",
        "res_layernorm = ResidualLayerNorm(embed_dim)\n",
        "\n",
        "# 1) Token → Embedding\n",
        "embedded = token_embed(tokens)\n",
        "\n",
        "# 2) Add Positional Encoding\n",
        "embedded_with_pos = pos_encoding(embedded)\n",
        "\n",
        "# 3) Example: apply residual connection with a dummy sublayer (e.g. FFN)\n",
        "dummy_sublayer_output = embedded_with_pos * 0.5\n",
        "output = res_layernorm(embedded_with_pos, dummy_sublayer_output)\n",
        "\n",
        "print(\"Final Output Shape:\", output.shape)"
      ],
      "metadata": {
        "colab": {
          "base_uri": "https://localhost:8080/"
        },
        "id": "fbekJRQjXNHd",
        "outputId": "1a0519d3-c3c1-4c28-d1f9-87d64f81eda5"
      },
      "execution_count": 6,
      "outputs": [
        {
          "output_type": "stream",
          "name": "stdout",
          "text": [
            "Tokens:\n",
            " tensor([[76, 19, 59, 49, 74],\n",
            "        [49, 73, 90, 36, 72]])\n",
            "Final Output Shape: torch.Size([2, 5, 16])\n"
          ]
        }
      ]
    },
    {
      "cell_type": "markdown",
      "source": [
        "- 랜덤 토큰 시퀀스 생성([2, 50] 크기)\n",
        "- 토큰 -> 임베딩 -> 위치 정보 추가\n",
        "- 가짜 서브레이어 출력(0.5배 스케일)과 Residual + LayerNorm 적용"
      ],
      "metadata": {
        "id": "ZrqeANrxYaij"
      }
    },
    {
      "cell_type": "code",
      "source": [
        "# ===== 5. 시각화 =====\n",
        "pe_matrix = pos_encoding.pe[0, :seq_len].detach().numpy()\n",
        "plt.figure(figsize=(10, 6))\n",
        "plt.imshow(pe_matrix, cmap='viridis')\n",
        "plt.colorbar()\n",
        "plt.title(\"Positional Encoding Heatmap\")\n",
        "plt.xlabel(\"Embedding Dimension\")\n",
        "plt.ylabel(\"Position (Token Index)\")\n",
        "plt.show()"
      ],
      "metadata": {
        "colab": {
          "base_uri": "https://localhost:8080/",
          "height": 504
        },
        "id": "LkNyoaaBXYka",
        "outputId": "cc1df546-05f1-4abb-fd11-233afc5d00d9"
      },
      "execution_count": 9,
      "outputs": [
        {
          "output_type": "display_data",
          "data": {
            "text/plain": [
              "<Figure size 1000x600 with 2 Axes>"
            ],
            "image/png": "[encoded data removed]"
          },
          "metadata": {}
        }
      ]
    },
    {
      "cell_type": "markdown",
      "source": [
        "- 위치 인코딩 패턴이 주기적으로 변하는 모습을 Heatmap으로 확인\n",
        "- 세로축 = 토큰 위치, 가로축 = 임베딩 차원"
      ],
      "metadata": {
        "id": "CZ2ZG5ZDYuIU"
      }
    }
  ]
}